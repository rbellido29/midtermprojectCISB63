{
 "cells": [
  {
   "cell_type": "markdown",
   "metadata": {},
   "source": [
    "# Building a basic chatbot\n",
    "#### Mt SAC CISB 63 Midterm Project Fall 2023\n",
    "#### Roberth Bellido"
   ]
  },
  {
   "cell_type": "markdown",
   "metadata": {},
   "source": [
    "# Introduction"
   ]
  },
  {
   "cell_type": "code",
   "execution_count": 28,
   "metadata": {},
   "outputs": [],
   "source": [
    "# I will be using Amazon's site for various product categories and/or situations.\n",
    "# Now, since the database is huge, I will only use a subset of questions and answers"
   ]
  },
  {
   "cell_type": "markdown",
   "metadata": {},
   "source": [
    "### Architecture of the chatbot\n",
    "\n",
    " 1. import the single csv \n",
    " 2. do some exploratory data analysis on the data\n",
    " 3. create a single df with only questions and answers\n",
    " 4. Vectorize and preprocess the question data\n",
    " 5. Vectorize and preprocess the user's query\n",
    " 6. Assess the most similar question to the user's query using cosine similarity\n",
    " 7. Return the corresponding answer to the most similar question as a chat response"
   ]
  },
  {
   "cell_type": "markdown",
   "metadata": {},
   "source": [
    "#### Let's import some libraries"
   ]
  },
  {
   "cell_type": "code",
   "execution_count": 1,
   "metadata": {},
   "outputs": [],
   "source": [
    "import numpy as np\n",
    "from sklearn.metrics.pairwise import cosine_similarity\n",
    "from sklearn.feature_extraction.text import CountVectorizer\n",
    "from sklearn.feature_extraction.text import TfidfTransformer\n",
    "import pandas as pd\n",
    "import seaborn as sns\n",
    "import matplotlib.pyplot as plt"
   ]
  },
  {
   "cell_type": "markdown",
   "metadata": {},
   "source": [
    "#### Let's add one more: \n",
    "\n",
    "### ast — Abstract Syntax Trees \n",
    "\n",
    "#### The ast module helps Python applications to process trees of the Python abstract syntax grammar."
   ]
  },
  {
   "cell_type": "code",
   "execution_count": 2,
   "metadata": {},
   "outputs": [],
   "source": [
    "import ast"
   ]
  },
  {
   "cell_type": "markdown",
   "metadata": {},
   "source": [
    "#### Let's create two lists for our questions and answers"
   ]
  },
  {
   "cell_type": "code",
   "execution_count": 3,
   "metadata": {},
   "outputs": [],
   "source": [
    "questions = []\n",
    "answers = []"
   ]
  },
  {
   "cell_type": "code",
   "execution_count": 4,
   "metadata": {},
   "outputs": [],
   "source": [
    "qna = pd.read_csv('single_qna.csv')"
   ]
  },
  {
   "cell_type": "markdown",
   "metadata": {},
   "source": [
    "# EDA(Exploratory Data Analysis)"
   ]
  },
  {
   "cell_type": "code",
   "execution_count": 5,
   "metadata": {},
   "outputs": [
    {
     "data": {
      "text/html": [
       "<div>\n",
       "<style scoped>\n",
       "    .dataframe tbody tr th:only-of-type {\n",
       "        vertical-align: middle;\n",
       "    }\n",
       "\n",
       "    .dataframe tbody tr th {\n",
       "        vertical-align: top;\n",
       "    }\n",
       "\n",
       "    .dataframe thead th {\n",
       "        text-align: right;\n",
       "    }\n",
       "</style>\n",
       "<table border=\"1\" class=\"dataframe\">\n",
       "  <thead>\n",
       "    <tr style=\"text-align: right;\">\n",
       "      <th></th>\n",
       "      <th>QuestionType</th>\n",
       "      <th>Asin</th>\n",
       "      <th>AnswerTime</th>\n",
       "      <th>UnixTime</th>\n",
       "      <th>Question</th>\n",
       "      <th>AnswerType</th>\n",
       "      <th>Answer</th>\n",
       "      <th>Category</th>\n",
       "    </tr>\n",
       "  </thead>\n",
       "  <tbody>\n",
       "    <tr>\n",
       "      <th>0</th>\n",
       "      <td>yes/no</td>\n",
       "      <td>B00004U9JP</td>\n",
       "      <td>Jun 27, 2014</td>\n",
       "      <td>1.403852e+09</td>\n",
       "      <td>I have a 9 year old Badger 1 that needs replac...</td>\n",
       "      <td>?</td>\n",
       "      <td>I replaced my old one with this without a hitch.</td>\n",
       "      <td>Appliances</td>\n",
       "    </tr>\n",
       "    <tr>\n",
       "      <th>1</th>\n",
       "      <td>open-ended</td>\n",
       "      <td>B00004U9JP</td>\n",
       "      <td>Apr 28, 2014</td>\n",
       "      <td>1.398668e+09</td>\n",
       "      <td>model number</td>\n",
       "      <td>NaN</td>\n",
       "      <td>This may help InSinkErator Model BADGER-1: Bad...</td>\n",
       "      <td>Appliances</td>\n",
       "    </tr>\n",
       "    <tr>\n",
       "      <th>2</th>\n",
       "      <td>yes/no</td>\n",
       "      <td>B00004U9JP</td>\n",
       "      <td>Aug 25, 2014</td>\n",
       "      <td>1.408950e+09</td>\n",
       "      <td>can I replace Badger 1 1/3 with a Badger 5 1/2...</td>\n",
       "      <td>?</td>\n",
       "      <td>Plumbing connections will vary with different ...</td>\n",
       "      <td>Appliances</td>\n",
       "    </tr>\n",
       "    <tr>\n",
       "      <th>3</th>\n",
       "      <td>yes/no</td>\n",
       "      <td>B00004U9JP</td>\n",
       "      <td>Nov 3, 2014</td>\n",
       "      <td>1.415002e+09</td>\n",
       "      <td>Does this come with power cord and dishwasher ...</td>\n",
       "      <td>?</td>\n",
       "      <td>It does not come with a power cord. It does co...</td>\n",
       "      <td>Appliances</td>\n",
       "    </tr>\n",
       "    <tr>\n",
       "      <th>4</th>\n",
       "      <td>open-ended</td>\n",
       "      <td>B00004U9JP</td>\n",
       "      <td>Jun 21, 2014</td>\n",
       "      <td>1.403334e+09</td>\n",
       "      <td>loud noise inside when turned on. sounds like ...</td>\n",
       "      <td>NaN</td>\n",
       "      <td>Check if you dropped something inside.Usually ...</td>\n",
       "      <td>Appliances</td>\n",
       "    </tr>\n",
       "  </tbody>\n",
       "</table>\n",
       "</div>"
      ],
      "text/plain": [
       "  QuestionType        Asin    AnswerTime      UnixTime  \\\n",
       "0       yes/no  B00004U9JP  Jun 27, 2014  1.403852e+09   \n",
       "1   open-ended  B00004U9JP  Apr 28, 2014  1.398668e+09   \n",
       "2       yes/no  B00004U9JP  Aug 25, 2014  1.408950e+09   \n",
       "3       yes/no  B00004U9JP   Nov 3, 2014  1.415002e+09   \n",
       "4   open-ended  B00004U9JP  Jun 21, 2014  1.403334e+09   \n",
       "\n",
       "                                            Question AnswerType  \\\n",
       "0  I have a 9 year old Badger 1 that needs replac...          ?   \n",
       "1                                       model number        NaN   \n",
       "2  can I replace Badger 1 1/3 with a Badger 5 1/2...          ?   \n",
       "3  Does this come with power cord and dishwasher ...          ?   \n",
       "4  loud noise inside when turned on. sounds like ...        NaN   \n",
       "\n",
       "                                              Answer    Category  \n",
       "0   I replaced my old one with this without a hitch.  Appliances  \n",
       "1  This may help InSinkErator Model BADGER-1: Bad...  Appliances  \n",
       "2  Plumbing connections will vary with different ...  Appliances  \n",
       "3  It does not come with a power cord. It does co...  Appliances  \n",
       "4  Check if you dropped something inside.Usually ...  Appliances  "
      ]
     },
     "execution_count": 5,
     "metadata": {},
     "output_type": "execute_result"
    }
   ],
   "source": [
    "qna.head()"
   ]
  },
  {
   "cell_type": "code",
   "execution_count": 6,
   "metadata": {},
   "outputs": [
    {
     "data": {
      "text/html": [
       "<div>\n",
       "<style scoped>\n",
       "    .dataframe tbody tr th:only-of-type {\n",
       "        vertical-align: middle;\n",
       "    }\n",
       "\n",
       "    .dataframe tbody tr th {\n",
       "        vertical-align: top;\n",
       "    }\n",
       "\n",
       "    .dataframe thead th {\n",
       "        text-align: right;\n",
       "    }\n",
       "</style>\n",
       "<table border=\"1\" class=\"dataframe\">\n",
       "  <thead>\n",
       "    <tr style=\"text-align: right;\">\n",
       "      <th></th>\n",
       "      <th>QuestionType</th>\n",
       "      <th>Asin</th>\n",
       "      <th>AnswerTime</th>\n",
       "      <th>UnixTime</th>\n",
       "      <th>Question</th>\n",
       "      <th>AnswerType</th>\n",
       "      <th>Answer</th>\n",
       "      <th>Category</th>\n",
       "    </tr>\n",
       "  </thead>\n",
       "  <tbody>\n",
       "    <tr>\n",
       "      <th>1396891</th>\n",
       "      <td>yes/no</td>\n",
       "      <td>B00KGGJPYA</td>\n",
       "      <td>Nov 26, 2014</td>\n",
       "      <td>1.416989e+09</td>\n",
       "      <td>Does the adaptor cord for the iPhone 5 work wi...</td>\n",
       "      <td>N</td>\n",
       "      <td>No</td>\n",
       "      <td>Video Games</td>\n",
       "    </tr>\n",
       "    <tr>\n",
       "      <th>1396892</th>\n",
       "      <td>yes/no</td>\n",
       "      <td>B00KGGJPYA</td>\n",
       "      <td>Oct 19, 2014</td>\n",
       "      <td>1.413702e+09</td>\n",
       "      <td>will it charge a kidle fire?</td>\n",
       "      <td>Y</td>\n",
       "      <td>Simply answered, yes. It comes with a 3-in-1 a...</td>\n",
       "      <td>Video Games</td>\n",
       "    </tr>\n",
       "    <tr>\n",
       "      <th>1396893</th>\n",
       "      <td>open-ended</td>\n",
       "      <td>B00KGGJPYA</td>\n",
       "      <td>Oct 15, 2014</td>\n",
       "      <td>1.413356e+09</td>\n",
       "      <td>What are the dimensions of this product?</td>\n",
       "      <td>NaN</td>\n",
       "      <td>4 by 1 1/2 inches</td>\n",
       "      <td>Video Games</td>\n",
       "    </tr>\n",
       "    <tr>\n",
       "      <th>1396894</th>\n",
       "      <td>yes/no</td>\n",
       "      <td>B00KGGJPYA</td>\n",
       "      <td>Jul 15, 2014</td>\n",
       "      <td>1.405408e+09</td>\n",
       "      <td>Does this have connector for 5C? I think 5C is...</td>\n",
       "      <td>?</td>\n",
       "      <td>I was able to charge Gembonics battery with iP...</td>\n",
       "      <td>Video Games</td>\n",
       "    </tr>\n",
       "    <tr>\n",
       "      <th>1396895</th>\n",
       "      <td>open-ended</td>\n",
       "      <td>B00KGGJPYA</td>\n",
       "      <td>Jul 7, 2014</td>\n",
       "      <td>1.404716e+09</td>\n",
       "      <td>so I just bought the Gembonics Battery Back up...</td>\n",
       "      <td>NaN</td>\n",
       "      <td>The Gembonics charger comes with a 3-in-1 cabl...</td>\n",
       "      <td>Video Games</td>\n",
       "    </tr>\n",
       "  </tbody>\n",
       "</table>\n",
       "</div>"
      ],
      "text/plain": [
       "        QuestionType        Asin    AnswerTime      UnixTime  \\\n",
       "1396891       yes/no  B00KGGJPYA  Nov 26, 2014  1.416989e+09   \n",
       "1396892       yes/no  B00KGGJPYA  Oct 19, 2014  1.413702e+09   \n",
       "1396893   open-ended  B00KGGJPYA  Oct 15, 2014  1.413356e+09   \n",
       "1396894       yes/no  B00KGGJPYA  Jul 15, 2014  1.405408e+09   \n",
       "1396895   open-ended  B00KGGJPYA   Jul 7, 2014  1.404716e+09   \n",
       "\n",
       "                                                  Question AnswerType  \\\n",
       "1396891  Does the adaptor cord for the iPhone 5 work wi...          N   \n",
       "1396892                       will it charge a kidle fire?          Y   \n",
       "1396893           What are the dimensions of this product?        NaN   \n",
       "1396894  Does this have connector for 5C? I think 5C is...          ?   \n",
       "1396895  so I just bought the Gembonics Battery Back up...        NaN   \n",
       "\n",
       "                                                    Answer     Category  \n",
       "1396891                                                 No  Video Games  \n",
       "1396892  Simply answered, yes. It comes with a 3-in-1 a...  Video Games  \n",
       "1396893                                  4 by 1 1/2 inches  Video Games  \n",
       "1396894  I was able to charge Gembonics battery with iP...  Video Games  \n",
       "1396895  The Gembonics charger comes with a 3-in-1 cabl...  Video Games  "
      ]
     },
     "execution_count": 6,
     "metadata": {},
     "output_type": "execute_result"
    }
   ],
   "source": [
    "qna.tail()"
   ]
  },
  {
   "cell_type": "code",
   "execution_count": 7,
   "metadata": {},
   "outputs": [
    {
     "data": {
      "text/plain": [
       "QuestionType         0\n",
       "Asin                 0\n",
       "AnswerTime           0\n",
       "UnixTime         49905\n",
       "Question             1\n",
       "AnswerType      733030\n",
       "Answer             146\n",
       "Category             0\n",
       "dtype: int64"
      ]
     },
     "execution_count": 7,
     "metadata": {},
     "output_type": "execute_result"
    }
   ],
   "source": [
    "#Seeing if there is any null values\n",
    "qna.isna().sum()"
   ]
  },
  {
   "cell_type": "code",
   "execution_count": 8,
   "metadata": {},
   "outputs": [],
   "source": [
    "#Dropping null entire row for null values in Question and Answer Column since it will not be useful to use\n",
    "qna.dropna(subset=['Answer'], inplace=True)\n",
    "qna.dropna(subset=['Question'], inplace=True)"
   ]
  },
  {
   "cell_type": "code",
   "execution_count": 9,
   "metadata": {},
   "outputs": [
    {
     "data": {
      "text/plain": [
       "QuestionType         0\n",
       "Asin                 0\n",
       "AnswerTime           0\n",
       "UnixTime         49903\n",
       "Question             0\n",
       "AnswerType      732927\n",
       "Answer               0\n",
       "Category             0\n",
       "dtype: int64"
      ]
     },
     "execution_count": 9,
     "metadata": {},
     "output_type": "execute_result"
    }
   ],
   "source": [
    "#Seeing if there is any null values\n",
    "qna.isna().sum()"
   ]
  },
  {
   "cell_type": "code",
   "execution_count": 10,
   "metadata": {},
   "outputs": [
    {
     "data": {
      "text/plain": [
       "Category\n",
       "Electronics                    314212\n",
       "Home and Kitchen               184421\n",
       "Sports and Outdoors            146882\n",
       "Tools and Home Improvement     101079\n",
       "Automotive                      89913\n",
       "Cell Phones and Accessories     85854\n",
       "Health and Personal Care        80492\n",
       "Patio Lawn and Garden           59591\n",
       "Toys and Games                  51482\n",
       "Office Products                 43601\n",
       "Beauty                          42418\n",
       "Pet Supplies                    36605\n",
       "Baby                            28931\n",
       "Musical Instruments             23319\n",
       "Clothing Shoes and Jewelry      22066\n",
       "Arts Crafts and Sewing          21262\n",
       "Grocery and Gourmet Food        19534\n",
       "Video Games                     13305\n",
       "Industrial and Scientific       12135\n",
       "Software                        10636\n",
       "Appliances                       9011\n",
       "Name: count, dtype: int64"
      ]
     },
     "execution_count": 10,
     "metadata": {},
     "output_type": "execute_result"
    }
   ],
   "source": [
    "#Total number of questions and answers for each category available\n",
    "qna['Category'].value_counts()"
   ]
  },
  {
   "cell_type": "code",
   "execution_count": 11,
   "metadata": {},
   "outputs": [
    {
     "data": {
      "image/png": "[encoded data removed]",
      "text/plain": [
       "<Figure size 1000x500 with 1 Axes>"
      ]
     },
     "metadata": {},
     "output_type": "display_data"
    }
   ],
   "source": [
    "#Total number of questions and answers for each category available in a historical plot\n",
    "fig, ax = plt.subplots(figsize=(10, 5))\n",
    "sns.countplot(data=qna, x='Category', ax=ax)\n",
    "ax.set_xticklabels(ax.get_xticklabels(), rotation=45, horizontalalignment='right')\n",
    "plt.show()"
   ]
  },
  {
   "cell_type": "code",
   "execution_count": 12,
   "metadata": {},
   "outputs": [
    {
     "data": {
      "text/plain": [
       "<Axes: xlabel='QuestionType', ylabel='Count'>"
      ]
     },
     "execution_count": 12,
     "metadata": {},
     "output_type": "execute_result"
    },
    {
     "data": {
      "image/png": "[encoded data removed]",
      "text/plain": [
       "<Figure size 640x480 with 1 Axes>"
      ]
     },
     "metadata": {},
     "output_type": "display_data"
    }
   ],
   "source": [
    "#Type of questions provided in the dataset\n",
    "sns.histplot(data=qna, x='QuestionType')"
   ]
  },
  {
   "cell_type": "markdown",
   "metadata": {},
   "source": [
    "# NLP Techniques"
   ]
  },
  {
   "cell_type": "markdown",
   "metadata": {},
   "source": [
    "# Let's create a pandas dataframe with the questions and answers only"
   ]
  },
  {
   "cell_type": "markdown",
   "metadata": {},
   "source": [
    "#### Let's load the questions and answers in separate lists"
   ]
  },
  {
   "cell_type": "code",
   "execution_count": 13,
   "metadata": {},
   "outputs": [],
   "source": [
    "DF = pd.DataFrame(qna[['Question','Answer']])"
   ]
  },
  {
   "cell_type": "code",
   "execution_count": 14,
   "metadata": {},
   "outputs": [
    {
     "data": {
      "text/html": [
       "<div>\n",
       "<style scoped>\n",
       "    .dataframe tbody tr th:only-of-type {\n",
       "        vertical-align: middle;\n",
       "    }\n",
       "\n",
       "    .dataframe tbody tr th {\n",
       "        vertical-align: top;\n",
       "    }\n",
       "\n",
       "    .dataframe thead th {\n",
       "        text-align: right;\n",
       "    }\n",
       "</style>\n",
       "<table border=\"1\" class=\"dataframe\">\n",
       "  <thead>\n",
       "    <tr style=\"text-align: right;\">\n",
       "      <th></th>\n",
       "      <th>Question</th>\n",
       "      <th>Answer</th>\n",
       "    </tr>\n",
       "  </thead>\n",
       "  <tbody>\n",
       "    <tr>\n",
       "      <th>0</th>\n",
       "      <td>I have a 9 year old Badger 1 that needs replac...</td>\n",
       "      <td>I replaced my old one with this without a hitch.</td>\n",
       "    </tr>\n",
       "    <tr>\n",
       "      <th>1</th>\n",
       "      <td>model number</td>\n",
       "      <td>This may help InSinkErator Model BADGER-1: Bad...</td>\n",
       "    </tr>\n",
       "    <tr>\n",
       "      <th>2</th>\n",
       "      <td>can I replace Badger 1 1/3 with a Badger 5 1/2...</td>\n",
       "      <td>Plumbing connections will vary with different ...</td>\n",
       "    </tr>\n",
       "    <tr>\n",
       "      <th>3</th>\n",
       "      <td>Does this come with power cord and dishwasher ...</td>\n",
       "      <td>It does not come with a power cord. It does co...</td>\n",
       "    </tr>\n",
       "    <tr>\n",
       "      <th>4</th>\n",
       "      <td>loud noise inside when turned on. sounds like ...</td>\n",
       "      <td>Check if you dropped something inside.Usually ...</td>\n",
       "    </tr>\n",
       "    <tr>\n",
       "      <th>5</th>\n",
       "      <td>where is the reset button located</td>\n",
       "      <td>on the bottom</td>\n",
       "    </tr>\n",
       "    <tr>\n",
       "      <th>6</th>\n",
       "      <td>I have a badger 5 it is leaking water at botto...</td>\n",
       "      <td>If your garbage disposal is leaking out the bo...</td>\n",
       "    </tr>\n",
       "    <tr>\n",
       "      <th>7</th>\n",
       "      <td>If no power cord is included, how do I plug in...</td>\n",
       "      <td>I ttok mine off of the broken unit and install...</td>\n",
       "    </tr>\n",
       "    <tr>\n",
       "      <th>8</th>\n",
       "      <td>Can someone tell me if this Badger 5 disposer ...</td>\n",
       "      <td>I replaced my a couple of months ago, I'm semi...</td>\n",
       "    </tr>\n",
       "    <tr>\n",
       "      <th>9</th>\n",
       "      <td>Is this Badger 5 compatible with the Badger 5 ...</td>\n",
       "      <td>It fit the same as the one we replaced</td>\n",
       "    </tr>\n",
       "    <tr>\n",
       "      <th>10</th>\n",
       "      <td>will this one work to replace the badger 1 1/3 HP</td>\n",
       "      <td>Yes it will. The sink connector is even the same</td>\n",
       "    </tr>\n",
       "    <tr>\n",
       "      <th>11</th>\n",
       "      <td>so can this unit be connected with a dishwashe...</td>\n",
       "      <td>yes, I did it with mine.</td>\n",
       "    </tr>\n",
       "    <tr>\n",
       "      <th>12</th>\n",
       "      <td>How easy to replace existing badger 1 with bad...</td>\n",
       "      <td>Not difficult as long as you have a helper or ...</td>\n",
       "    </tr>\n",
       "    <tr>\n",
       "      <th>13</th>\n",
       "      <td>My present disposal has a 3 bolt connection. W...</td>\n",
       "      <td>If I understand your present disposal 3 bolts ...</td>\n",
       "    </tr>\n",
       "    <tr>\n",
       "      <th>14</th>\n",
       "      <td>Does the unit come with the rubber collar or d...</td>\n",
       "      <td>If you mean the rubber collar that is visible ...</td>\n",
       "    </tr>\n",
       "    <tr>\n",
       "      <th>15</th>\n",
       "      <td>is there a connection for the dish washer</td>\n",
       "      <td>yes.</td>\n",
       "    </tr>\n",
       "    <tr>\n",
       "      <th>16</th>\n",
       "      <td>burner plates for electric glass cooktops? Can...</td>\n",
       "      <td>I'm looking for the same item because I have a...</td>\n",
       "    </tr>\n",
       "    <tr>\n",
       "      <th>17</th>\n",
       "      <td>I have a electic stove that has varying sizes ...</td>\n",
       "      <td>I use the Nordic on all size electric burners....</td>\n",
       "    </tr>\n",
       "    <tr>\n",
       "      <th>18</th>\n",
       "      <td>can these be used for gas stove burner?</td>\n",
       "      <td>yes it can.i use it on my grills side burner t...</td>\n",
       "    </tr>\n",
       "    <tr>\n",
       "      <th>19</th>\n",
       "      <td>is this for electric stoves?</td>\n",
       "      <td>This is purportedly for all heat sources. Heat...</td>\n",
       "    </tr>\n",
       "  </tbody>\n",
       "</table>\n",
       "</div>"
      ],
      "text/plain": [
       "                                             Question  \\\n",
       "0   I have a 9 year old Badger 1 that needs replac...   \n",
       "1                                        model number   \n",
       "2   can I replace Badger 1 1/3 with a Badger 5 1/2...   \n",
       "3   Does this come with power cord and dishwasher ...   \n",
       "4   loud noise inside when turned on. sounds like ...   \n",
       "5                   where is the reset button located   \n",
       "6   I have a badger 5 it is leaking water at botto...   \n",
       "7   If no power cord is included, how do I plug in...   \n",
       "8   Can someone tell me if this Badger 5 disposer ...   \n",
       "9   Is this Badger 5 compatible with the Badger 5 ...   \n",
       "10  will this one work to replace the badger 1 1/3 HP   \n",
       "11  so can this unit be connected with a dishwashe...   \n",
       "12  How easy to replace existing badger 1 with bad...   \n",
       "13  My present disposal has a 3 bolt connection. W...   \n",
       "14  Does the unit come with the rubber collar or d...   \n",
       "15          is there a connection for the dish washer   \n",
       "16  burner plates for electric glass cooktops? Can...   \n",
       "17  I have a electic stove that has varying sizes ...   \n",
       "18            can these be used for gas stove burner?   \n",
       "19                       is this for electric stoves?   \n",
       "\n",
       "                                               Answer  \n",
       "0    I replaced my old one with this without a hitch.  \n",
       "1   This may help InSinkErator Model BADGER-1: Bad...  \n",
       "2   Plumbing connections will vary with different ...  \n",
       "3   It does not come with a power cord. It does co...  \n",
       "4   Check if you dropped something inside.Usually ...  \n",
       "5                                       on the bottom  \n",
       "6   If your garbage disposal is leaking out the bo...  \n",
       "7   I ttok mine off of the broken unit and install...  \n",
       "8   I replaced my a couple of months ago, I'm semi...  \n",
       "9              It fit the same as the one we replaced  \n",
       "10   Yes it will. The sink connector is even the same  \n",
       "11                           yes, I did it with mine.  \n",
       "12  Not difficult as long as you have a helper or ...  \n",
       "13  If I understand your present disposal 3 bolts ...  \n",
       "14  If you mean the rubber collar that is visible ...  \n",
       "15                                               yes.  \n",
       "16  I'm looking for the same item because I have a...  \n",
       "17  I use the Nordic on all size electric burners....  \n",
       "18  yes it can.i use it on my grills side burner t...  \n",
       "19  This is purportedly for all heat sources. Heat...  "
      ]
     },
     "execution_count": 14,
     "metadata": {},
     "output_type": "execute_result"
    }
   ],
   "source": [
    "DF.head(20)"
   ]
  },
  {
   "cell_type": "code",
   "execution_count": 15,
   "metadata": {},
   "outputs": [],
   "source": [
    "answers = pd.Series(qna[\"Answer\"])"
   ]
  },
  {
   "cell_type": "code",
   "execution_count": 16,
   "metadata": {},
   "outputs": [
    {
     "data": {
      "text/html": [
       "<div>\n",
       "<style scoped>\n",
       "    .dataframe tbody tr th:only-of-type {\n",
       "        vertical-align: middle;\n",
       "    }\n",
       "\n",
       "    .dataframe tbody tr th {\n",
       "        vertical-align: top;\n",
       "    }\n",
       "\n",
       "    .dataframe thead th {\n",
       "        text-align: right;\n",
       "    }\n",
       "</style>\n",
       "<table border=\"1\" class=\"dataframe\">\n",
       "  <thead>\n",
       "    <tr style=\"text-align: right;\">\n",
       "      <th></th>\n",
       "      <th>Question</th>\n",
       "      <th>Answer</th>\n",
       "    </tr>\n",
       "  </thead>\n",
       "  <tbody>\n",
       "    <tr>\n",
       "      <th>1396891</th>\n",
       "      <td>Does the adaptor cord for the iPhone 5 work wi...</td>\n",
       "      <td>No</td>\n",
       "    </tr>\n",
       "    <tr>\n",
       "      <th>1396892</th>\n",
       "      <td>will it charge a kidle fire?</td>\n",
       "      <td>Simply answered, yes. It comes with a 3-in-1 a...</td>\n",
       "    </tr>\n",
       "    <tr>\n",
       "      <th>1396893</th>\n",
       "      <td>What are the dimensions of this product?</td>\n",
       "      <td>4 by 1 1/2 inches</td>\n",
       "    </tr>\n",
       "    <tr>\n",
       "      <th>1396894</th>\n",
       "      <td>Does this have connector for 5C? I think 5C is...</td>\n",
       "      <td>I was able to charge Gembonics battery with iP...</td>\n",
       "    </tr>\n",
       "    <tr>\n",
       "      <th>1396895</th>\n",
       "      <td>so I just bought the Gembonics Battery Back up...</td>\n",
       "      <td>The Gembonics charger comes with a 3-in-1 cabl...</td>\n",
       "    </tr>\n",
       "  </tbody>\n",
       "</table>\n",
       "</div>"
      ],
      "text/plain": [
       "                                                  Question  \\\n",
       "1396891  Does the adaptor cord for the iPhone 5 work wi...   \n",
       "1396892                       will it charge a kidle fire?   \n",
       "1396893           What are the dimensions of this product?   \n",
       "1396894  Does this have connector for 5C? I think 5C is...   \n",
       "1396895  so I just bought the Gembonics Battery Back up...   \n",
       "\n",
       "                                                    Answer  \n",
       "1396891                                                 No  \n",
       "1396892  Simply answered, yes. It comes with a 3-in-1 a...  \n",
       "1396893                                  4 by 1 1/2 inches  \n",
       "1396894  I was able to charge Gembonics battery with iP...  \n",
       "1396895  The Gembonics charger comes with a 3-in-1 cabl...  "
      ]
     },
     "execution_count": 16,
     "metadata": {},
     "output_type": "execute_result"
    }
   ],
   "source": [
    "DF.tail()"
   ]
  },
  {
   "cell_type": "code",
   "execution_count": 17,
   "metadata": {},
   "outputs": [],
   "source": [
    "questions = qna[\"Question\"]"
   ]
  },
  {
   "cell_type": "markdown",
   "metadata": {},
   "source": [
    "#### Let's tokenize the text and convert data in matrix format"
   ]
  },
  {
   "cell_type": "code",
   "execution_count": 18,
   "metadata": {},
   "outputs": [],
   "source": [
    "from sklearn.feature_extraction.text import CountVectorizer\n",
    "vectorizer = CountVectorizer(stop_words='english')\n",
    "X_vec = vectorizer.fit_transform(questions)"
   ]
  },
  {
   "cell_type": "markdown",
   "metadata": {},
   "source": [
    "#### This is new!!!! <br> Let's Transform data by applying term frequency inverse document frequency (TF-IDF) "
   ]
  },
  {
   "cell_type": "code",
   "execution_count": 19,
   "metadata": {},
   "outputs": [],
   "source": [
    "tfidf = TfidfTransformer() \n",
    "X_tfidf = tfidf.fit_transform(X_vec)"
   ]
  },
  {
   "cell_type": "code",
   "execution_count": 20,
   "metadata": {},
   "outputs": [
    {
     "data": {
      "text/html": [
       "<style>#sk-container-id-1 {color: black;}#sk-container-id-1 pre{padding: 0;}#sk-container-id-1 div.sk-toggleable {background-color: white;}#sk-container-id-1 label.sk-toggleable__label {cursor: pointer;display: block;width: 100%;margin-bottom: 0;padding: 0.3em;box-sizing: border-box;text-align: center;}#sk-container-id-1 label.sk-toggleable__label-arrow:before {content: \"▸\";float: left;margin-right: 0.25em;color: #696969;}#sk-container-id-1 label.sk-toggleable__label-arrow:hover:before {color: black;}#sk-container-id-1 div.sk-estimator:hover label.sk-toggleable__label-arrow:before {color: black;}#sk-container-id-1 div.sk-toggleable__content {max-height: 0;max-width: 0;overflow: hidden;text-align: left;background-color: #f0f8ff;}#sk-container-id-1 div.sk-toggleable__content pre {margin: 0.2em;color: black;border-radius: 0.25em;background-color: #f0f8ff;}#sk-container-id-1 input.sk-toggleable__control:checked~div.sk-toggleable__content {max-height: 200px;max-width: 100%;overflow: auto;}#sk-container-id-1 input.sk-toggleable__control:checked~label.sk-toggleable__label-arrow:before {content: \"▾\";}#sk-container-id-1 div.sk-estimator input.sk-toggleable__control:checked~label.sk-toggleable__label {background-color: #d4ebff;}#sk-container-id-1 div.sk-label input.sk-toggleable__control:checked~label.sk-toggleable__label {background-color: #d4ebff;}#sk-container-id-1 input.sk-hidden--visually {border: 0;clip: rect(1px 1px 1px 1px);clip: rect(1px, 1px, 1px, 1px);height: 1px;margin: -1px;overflow: hidden;padding: 0;position: absolute;width: 1px;}#sk-container-id-1 div.sk-estimator {font-family: monospace;background-color: #f0f8ff;border: 1px dotted black;border-radius: 0.25em;box-sizing: border-box;margin-bottom: 0.5em;}#sk-container-id-1 div.sk-estimator:hover {background-color: #d4ebff;}#sk-container-id-1 div.sk-parallel-item::after {content: \"\";width: 100%;border-bottom: 1px solid gray;flex-grow: 1;}#sk-container-id-1 div.sk-label:hover label.sk-toggleable__label {background-color: #d4ebff;}#sk-container-id-1 div.sk-serial::before {content: \"\";position: absolute;border-left: 1px solid gray;box-sizing: border-box;top: 0;bottom: 0;left: 50%;z-index: 0;}#sk-container-id-1 div.sk-serial {display: flex;flex-direction: column;align-items: center;background-color: white;padding-right: 0.2em;padding-left: 0.2em;position: relative;}#sk-container-id-1 div.sk-item {position: relative;z-index: 1;}#sk-container-id-1 div.sk-parallel {display: flex;align-items: stretch;justify-content: center;background-color: white;position: relative;}#sk-container-id-1 div.sk-item::before, #sk-container-id-1 div.sk-parallel-item::before {content: \"\";position: absolute;border-left: 1px solid gray;box-sizing: border-box;top: 0;bottom: 0;left: 50%;z-index: -1;}#sk-container-id-1 div.sk-parallel-item {display: flex;flex-direction: column;z-index: 1;position: relative;background-color: white;}#sk-container-id-1 div.sk-parallel-item:first-child::after {align-self: flex-end;width: 50%;}#sk-container-id-1 div.sk-parallel-item:last-child::after {align-self: flex-start;width: 50%;}#sk-container-id-1 div.sk-parallel-item:only-child::after {width: 0;}#sk-container-id-1 div.sk-dashed-wrapped {border: 1px dashed gray;margin: 0 0.4em 0.5em 0.4em;box-sizing: border-box;padding-bottom: 0.4em;background-color: white;}#sk-container-id-1 div.sk-label label {font-family: monospace;font-weight: bold;display: inline-block;line-height: 1.2em;}#sk-container-id-1 div.sk-label-container {text-align: center;}#sk-container-id-1 div.sk-container {/* jupyter's `normalize.less` sets `[hidden] { display: none; }` but bootstrap.min.css set `[hidden] { display: none !important; }` so we also need the `!important` here to be able to override the default hidden behavior on the sphinx rendered scikit-learn.org. See: https://github.com/scikit-learn/scikit-learn/issues/21755 */display: inline-block !important;position: relative;}#sk-container-id-1 div.sk-text-repr-fallback {display: none;}</style><div id=\"sk-container-id-1\" class=\"sk-top-container\"><div class=\"sk-text-repr-fallback\"><pre>TfidfTransformer()</pre><b>In a Jupyter environment, please rerun this cell to show the HTML representation or trust the notebook. <br />On GitHub, the HTML representation is unable to render, please try loading this page with nbviewer.org.</b></div><div class=\"sk-container\" hidden><div class=\"sk-item\"><div class=\"sk-estimator sk-toggleable\"><input class=\"sk-toggleable__control sk-hidden--visually\" id=\"sk-estimator-id-1\" type=\"checkbox\" checked><label for=\"sk-estimator-id-1\" class=\"sk-toggleable__label sk-toggleable__label-arrow\">TfidfTransformer</label><div class=\"sk-toggleable__content\"><pre>TfidfTransformer()</pre></div></div></div></div></div>"
      ],
      "text/plain": [
       "TfidfTransformer()"
      ]
     },
     "execution_count": 20,
     "metadata": {},
     "output_type": "execute_result"
    }
   ],
   "source": [
    "tfidf"
   ]
  },
  {
   "cell_type": "code",
   "execution_count": 21,
   "metadata": {},
   "outputs": [
    {
     "data": {
      "text/plain": [
       "<1396749x179518 sparse matrix of type '<class 'numpy.float64'>'\n",
       "\twith 8433629 stored elements in Compressed Sparse Row format>"
      ]
     },
     "execution_count": 21,
     "metadata": {},
     "output_type": "execute_result"
    }
   ],
   "source": [
    "X_tfidf"
   ]
  },
  {
   "cell_type": "markdown",
   "metadata": {},
   "source": [
    "#### X_tfidf is the repository matrix that will be searched every time a new question is entered in the chatbot for the most similar question. "
   ]
  },
  {
   "cell_type": "markdown",
   "metadata": {},
   "source": [
    "#### Let's do a functions \"conversation\"\n",
    "\n",
    "#### We need to calculate the angle between every row of the X_tfidf matrix and the new question vector. Note that we are using skelearn cosine_similarity module to calculate the cosine between each row and the vector and then convert the cosine into degrees. \n",
    "\n",
    "#### Finally, we search the row that has the maximum cosine (or the minimum angle) with the new question vector and return the corresponding answer. "
   ]
  },
  {
   "cell_type": "code",
   "execution_count": 22,
   "metadata": {},
   "outputs": [],
   "source": [
    "def conversation(im):\n",
    "    global tfidf, answers, X_tfidf\n",
    "    Y_vec = vectorizer.transform(im)\n",
    "    Y_tfidf = tfidf.fit_transform(Y_vec)\n",
    "    cos_sim = np.rad2deg(np.arccos(max(cosine_similarity(Y_tfidf, X_tfidf)[0])))\n",
    "    if cos_sim > 60:\n",
    "        return \"sorry, I did not quite understand that\"\n",
    "    else: \n",
    "        return answers[np.argmax(cosine_similarity(Y_tfidf, X_tfidf)[0])]"
   ]
  },
  {
   "cell_type": "markdown",
   "metadata": {},
   "source": [
    "#### Finally, let's implement the chat where the user enters a question and the bot provides a response. The chat continues until the user types \"bye\""
   ]
  },
  {
   "cell_type": "code",
   "execution_count": 23,
   "metadata": {},
   "outputs": [],
   "source": [
    "def main():\n",
    "    usr = input('Enter your name: ')\n",
    "    print(\"Support: Hi, welcome to Q&A support. How can I help you?\")\n",
    "    while True:\n",
    "        im = input(\"{}: \".format(usr))\n",
    "        if im.lower() == 'bye':\n",
    "            print(\"Q&A support: bye!\")\n",
    "            break\n",
    "        else:\n",
    "            print(\"Q&A support: \" +conversation([im]))"
   ]
  },
  {
   "cell_type": "markdown",
   "metadata": {},
   "source": [
    "### Let's test"
   ]
  },
  {
   "cell_type": "code",
   "execution_count": 24,
   "metadata": {},
   "outputs": [
    {
     "name": "stdout",
     "output_type": "stream",
     "text": [
      "Enter your name: roberto carlos el futbolista mas chido del mundo\n",
      "Support: Hi, welcome to Q&A support. How can I help you?\n",
      "roberto carlos el futbolista mas chido del mundo: could you provide me package tracking information\n",
      "Q&A support: Very difficult my wife uses a small screwdriver and a xacto knife\n",
      "roberto carlos el futbolista mas chido del mundo: WHY DOES YOUR WIFE USE A SMALL SCREWDRIVER\n",
      "Q&A support: Sorry I can't really give you much of a time estimate but I can say I have not been disappointed. I don't use mine all the time. I go in spurts. I'll use it daily for a few weeks then not at all for months but so far I have not finshed one cartridge yet. Some advice though, try to turn it off while you brush and style your hair then back on as needed. It doesn't take long at all to heat up and saves the cell.\n",
      "roberto carlos el futbolista mas chido del mundo: I WOULD HOPE A GOOD SCREW WOULD NOT BE DISAPPOINTED\n",
      "Q&A support: Dear Alma, Thank you for your inquiry. The sink is 17 3/4\" wide and 8\" deep. These are the outside dimensions. Below are bot, inside and outside dimensions. Should you have any further questions or need any assistance, please do not hesitate o contact us, Best regards, Nick Nominal Overall Dimensions 15 \" W x 17 \" D x 8\" H Tank Dimensions: 13 \" W x 15\n",
      "roberto carlos el futbolista mas chido del mundo: HASTA LA VISTA BABY\n",
      "Q&A support: I used it for every season.\n",
      "roberto carlos el futbolista mas chido del mundo: IM SURE YOU DO BABY\n",
      "Q&A support: Nope. Don't put the foam directly on the glass of course, but other than that you'll have no problem at all.\n",
      "roberto carlos el futbolista mas chido del mundo: BYE\n",
      "Q&A support: bye!\n"
     ]
    }
   ],
   "source": [
    "main()"
   ]
  },
  {
   "cell_type": "markdown",
   "metadata": {},
   "source": [
    "# Conclusion"
   ]
  },
  {
   "cell_type": "code",
   "execution_count": 26,
   "metadata": {},
   "outputs": [],
   "source": [
    "# The dataset is limited, as I engaged with the system to ask questions\n",
    "# that a regular customer and/or consumer would ask, the dataset does not provide\n",
    "# relevant information. This would mean, the recorded information is not extensive\n",
    "# as I would expected to be.  Having worked for/with Shopify and Amazon, I am\n",
    "# very much familiar with most possible scenarios."
   ]
  },
  {
   "cell_type": "markdown",
   "metadata": {},
   "source": [
    "## This project is Awesome!"
   ]
  },
  {
   "cell_type": "code",
   "execution_count": null,
   "metadata": {},
   "outputs": [],
   "source": []
  }
 ],
 "metadata": {
  "kernelspec": {
   "display_name": "Python 3 (ipykernel)",
   "language": "python",
   "name": "python3"
  },
  "language_info": {
   "codemirror_mode": {
    "name": "ipython",
    "version": 3
   },
   "file_extension": ".py",
   "mimetype": "text/x-python",
   "name": "python",
   "nbconvert_exporter": "python",
   "pygments_lexer": "ipython3",
   "version": "3.11.4"
  }
 },
 "nbformat": 4,
 "nbformat_minor": 4
}
